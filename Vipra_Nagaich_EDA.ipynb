{
 "cells": [
  {
   "cell_type": "code",
   "execution_count": null,
   "metadata": {},
   "outputs": [],
   "source": [
    "import seaborn as sns\n",
    "import pandas as pd\n",
    "from sklearn.preprocessing import StandardScaler\n",
    "import matplotlib.pyplot as plt\n",
    "from sklearn.preprocessing import OneHotEncoder, LabelEncoder, StandardScaler\n",
    "\n",
    "customers = pd.read_csv(\"D:/Users/Vipra Nagaich/Downloads/Customers.csv\")\n",
    "products = pd.read_csv(\"D:/Users/Vipra Nagaich/Downloads/Products.csv\")\n",
    "transactions = pd.read_csv(\"D:/Users/Vipra Nagaich/Downloads/Transactions.csv\")\n",
    "\n",
    "label_encoder = LabelEncoder()\n",
    "\n",
    "customers['Region_Encoded'] = label_encoder.fit_transform(customers['Region'])\n",
    "products['Category_Encoded'] = label_encoder.fit_transform(products['Category'])\n",
    "\n",
    "merged_data = pd.merge(transactions, customers, on='CustomerID')\n",
    "merged_data = pd.merge(merged_data, products, on='ProductID')\n",
    "\n",
    "#dates to datetime\n",
    "merged_data['SignupDate'] = pd.to_datetime(merged_data['SignupDate'])\n",
    "merged_data['TransactionDate'] = pd.to_datetime(merged_data['TransactionDate'])\n",
    "\n",
    "merged_data.head()"
   ]
  },
  {
   "cell_type": "code",
   "execution_count": null,
   "metadata": {},
   "outputs": [],
   "source": [
    "merged_data.isnull().sum()"
   ]
  },
  {
   "cell_type": "code",
   "execution_count": null,
   "metadata": {},
   "outputs": [],
   "source": [
    "merged_data.describe(include='all')"
   ]
  },
  {
   "cell_type": "code",
   "execution_count": null,
   "metadata": {},
   "outputs": [],
   "source": [
    "plt.figure(figsize=(6,4))\n",
    "merged_data['Region'].value_counts().plot(kind='bar')\n",
    "plt.title(\"Customer Distribution by Region\")\n",
    "plt.xlabel(\"Region\")\n",
    "plt.ylabel(\"Count of Customers\")\n",
    "plt.tight_layout()\n",
    "plt.show()"
   ]
  },
  {
   "cell_type": "code",
   "execution_count": null,
   "metadata": {},
   "outputs": [],
   "source": [
    "sales_by_category = merged_data.groupby(\"Category\")[\"TotalValue\"].sum().sort_values(ascending=False)\n",
    "plt.figure(figsize=(6,4))\n",
    "sales_by_category.plot(kind='bar')\n",
    "plt.title(\"Total Sales by Category\")\n",
    "plt.xlabel(\"Category\")\n",
    "plt.ylabel(\"Total Sales (USD)\")\n",
    "plt.tight_layout()\n",
    "plt.show()"
   ]
  },
  {
   "cell_type": "code",
   "execution_count": null,
   "metadata": {},
   "outputs": [],
   "source": [
    "merged_data[\"TransactionDate\"] = pd.to_datetime(merged_data[\"TransactionDate\"])\n",
    "transactions_by_month = merged_data.groupby(merged_data[\"TransactionDate\"].dt.to_period(\"M\"))[\"TransactionID\"].count()\n",
    "plt.figure(figsize=(8,4))\n",
    "transactions_by_month.plot(marker='o')\n",
    "plt.title(\"Transactions Over Time (Monthly)\")\n",
    "plt.xlabel(\"Month\")\n",
    "plt.ylabel(\"Number of Transactions\")\n",
    "plt.tight_layout()\n",
    "plt.show()"
   ]
  },
  {
   "cell_type": "code",
   "execution_count": null,
   "metadata": {},
   "outputs": [],
   "source": [
    "merged_data[\"SignupDate\"] = pd.to_datetime(merged_data[\"SignupDate\"])\n",
    "merged_data[\"signup_year\"] = merged_data[\"SignupDate\"].dt.year\n",
    "signups_vs_sales = merged_data.groupby(\"signup_year\")[\"TotalValue\"].sum()\n",
    "newest_year = signups_vs_sales.index.max()\n",
    "oldest_year = signups_vs_sales.index.min()\n",
    "signups_vs_sales"
   ]
  },
  {
   "cell_type": "code",
   "execution_count": null,
   "metadata": {},
   "outputs": [],
   "source": [
    "peak_month = transactions_by_month.idxmax()\n",
    "peak_month"
   ]
  },
  {
   "cell_type": "code",
   "execution_count": null,
   "metadata": {},
   "outputs": [],
   "source": [
    "merged_data[\"TransactionMonth\"] = merged_data[\"TransactionDate\"].dt.month\n",
    "\n",
    "monthly_region_tx = (\n",
    "    merged_data.groupby([\"Region\", \"TransactionMonth\"])[\"TransactionID\"]\n",
    "    .count()\n",
    "    .reset_index(name=\"TransactionCount\")\n",
    ")\n",
    "\n",
    "max_month_for_each_region = monthly_region_tx.loc[\n",
    "    monthly_region_tx.groupby(\"Region\")[\"TransactionCount\"].idxmax()\n",
    "]\n",
    "print(\"Month with highest transactions for each region:\")\n",
    "print(max_month_for_each_region)"
   ]
  },
  {
   "cell_type": "code",
   "execution_count": null,
   "metadata": {},
   "outputs": [],
   "source": [
    "pivot_table = monthly_region_tx.pivot(\n",
    "    index=\"TransactionMonth\", columns=\"Region\", values=\"TransactionCount\"\n",
    ")\n",
    "\n",
    "plt.figure(figsize=(8, 6))\n",
    "sns.heatmap(pivot_table, annot=True, fmt=\".0f\", cmap=\"Blues\")\n",
    "plt.title(\"Transactions by Month and Region (Heatmap)\")\n",
    "plt.xlabel(\"Region\")\n",
    "plt.ylabel(\"Month\")\n",
    "plt.tight_layout()\n",
    "plt.show()"
   ]
  },
  {
   "cell_type": "code",
   "execution_count": null,
   "metadata": {},
   "outputs": [],
   "source": [
    "pivot_table.plot(kind=\"bar\", figsize=(10, 6))\n",
    "plt.title(\"Transactions by Month and Region (Grouped Bar)\")\n",
    "plt.xlabel(\"Month\")\n",
    "plt.ylabel(\"Number of Transactions\")\n",
    "plt.legend(title=\"Region\")\n",
    "plt.tight_layout()\n",
    "plt.show()"
   ]
  },
  {
   "cell_type": "code",
   "execution_count": null,
   "metadata": {},
   "outputs": [],
   "source": [
    "category_region_tx = (\n",
    "    merged_data.groupby([\"Region\", \"Category\"])[\"TransactionID\"]\n",
    "    .count()\n",
    "    .reset_index(name=\"TransactionCount\")\n",
    ")\n",
    "\n",
    "max_category_per_region = category_region_tx.loc[\n",
    "    category_region_tx.groupby(\"Region\")[\"TransactionCount\"].idxmax()\n",
    "]\n",
    "print(\"Category with highest transactions for each region:\")\n",
    "print(max_category_per_region)\n",
    "\n",
    "plt.figure(figsize=(10, 6))\n",
    "sns.barplot(\n",
    "    x=\"Region\",\n",
    "    y=\"TransactionCount\",\n",
    "    hue=\"Category\",\n",
    "    data=category_region_tx,\n",
    "    palette=\"viridis\"\n",
    ")\n",
    "plt.title(\"Transactions by Category and Region\")\n",
    "plt.xlabel(\"Region\")\n",
    "plt.ylabel(\"Number of Transactions\")\n",
    "plt.xticks(rotation=45)\n",
    "plt.tight_layout()\n",
    "plt.show()"
   ]
  }
 ],
 "metadata": {
  "kernelspec": {
   "display_name": "Python 3",
   "language": "python",
   "name": "python3"
  },
  "language_info": {
   "codemirror_mode": {
    "name": "ipython",
    "version": 3
   },
   "file_extension": ".py",
   "mimetype": "text/x-python",
   "name": "python",
   "nbconvert_exporter": "python",
   "pygments_lexer": "ipython3",
   "version": "3.11.9"
  }
 },
 "nbformat": 4,
 "nbformat_minor": 2
}
